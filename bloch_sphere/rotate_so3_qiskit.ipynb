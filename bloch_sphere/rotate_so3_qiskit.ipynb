{
 "cells": [
  {
   "cell_type": "markdown",
   "id": "b0414bfe",
   "metadata": {},
   "source": [
    "# --- v1"
   ]
  },
  {
   "cell_type": "markdown",
   "id": "f76779cf",
   "metadata": {},
   "source": [
    "not functional. To be removed upon completion"
   ]
  },
  {
   "cell_type": "code",
   "execution_count": null,
   "id": "7063a92f",
   "metadata": {},
   "outputs": [],
   "source": [
    "from qiskit.quantum_info import Statevector\n",
    "\n",
    "from qiskit.visualization import plot_bloch_vector\n",
    "import numpy as np\n",
    "%matplotlib inline\n",
    "\n"
   ]
  },
  {
   "cell_type": "code",
   "execution_count": null,
   "id": "9022bfe1",
   "metadata": {},
   "outputs": [],
   "source": [
    "sv = []\n",
    "sv.append([0,1,0])\n",
    "sv.append([0,0,1])\n",
    "sv.append([1,0,0])\n",
    "\n",
    "print(sv)"
   ]
  },
  {
   "cell_type": "code",
   "execution_count": null,
   "id": "6ee0af5c",
   "metadata": {},
   "outputs": [],
   "source": [
    "def to_spherical(state):\n",
    "    r0 = np.abs(state[0])\n",
    "    ϕ0 = np.angle(state[0])\n",
    "    r1 = np.abs(state[1])\n",
    "    ϕ1 = np.angle(state[1])\n",
    "    r = np.sqrt(r0 ** 2 + r1 ** 2)\n",
    "    θ = 2 * np.arccos(r0 / r)\n",
    "    ϕ = ϕ1 - ϕ0\n",
    "    return [r, θ, ϕ]\n",
    "\n",
    "def to_cartesian(polar):\n",
    "    r = polar[0]\n",
    "    θ = polar[1]\n",
    "    ϕ = polar[2]\n",
    "    x = r * np.sin(θ) * np.cos(ϕ)\n",
    "    y = r * np.sin(θ) * np.sin(ϕ)\n",
    "    z = r * np.cos(θ)\n",
    "    return [x, y, z]"
   ]
  },
  {
   "cell_type": "markdown",
   "id": "8c1f3816",
   "metadata": {},
   "source": [
    "ToDo: Adapt to Qiskit and revise output"
   ]
  },
  {
   "cell_type": "code",
   "execution_count": null,
   "id": "1a7b5651",
   "metadata": {},
   "outputs": [],
   "source": [
    "#SO3\n",
    "def rn_so3(state, theta, phi, delta):\n",
    "    rn_mat = qt.Qobj(np.array(\n",
    "        [[np.cos(delta/2) - (0+1j)*np.cos(theta)*np.sin(delta/2),\n",
    "          -(0+1j)*np.exp(-(0+1j)*phi)*np.sin(delta/2)*np.sin(theta)],\n",
    "         [-(0+1j)*np.exp((0+1j)*phi)*np.sin(delta/2)*np.sin(theta),\n",
    "          np.cos(delta/2) + (0+1j)*np.cos(theta)*np.sin(delta/2)]]\n",
    "        ))\n",
    "    r_state = (rn_mat*state)*(rn_mat*state).dag()\n",
    "    return r_state"
   ]
  },
  {
   "cell_type": "code",
   "execution_count": null,
   "id": "1b24254f",
   "metadata": {},
   "outputs": [],
   "source": [
    "#fig = plot_bloch_vector(sv)\n",
    "#fig.clear()\n",
    "#fig.make_sphere()\n",
    "\n",
    "states = []\n",
    "points = []\n",
    "\n",
    "alpha = 1/np.sqrt(2)\n",
    "beta = 1/np.sqrt(2)\n",
    "s = np.array([alpha,beta])\n",
    "state = Statevector(s)\n",
    "states.append(state)\n",
    "\n",
    "Ψ = [complex(alpha, 0), complex(beta, 0)]\n",
    "polar = to_spherical(Ψ)\n",
    "pnt = to_cartesian(polar)\n",
    "points.append(pnt)\n",
    "\n",
    "rotated = state\n",
    "for i in range(0,10):\n",
    "    rotated = rn_so3(rotated, 0.4, 0.3, 0.2)\n",
    "    pnt = [(Statevector.sigmax()*rotated).tr(), (Statevector.sigmay()*rotated).tr(), (Statevector.sigmaz()*rotated).tr()]\n",
    "    r = np.sqrt(pnt[0]**2+pnt[1]**2+pnt[2]**2)\n",
    "    states.append(rotated)\n",
    "    points.append(pnt)\n",
    "\n",
    "fig.add_states(states)\n",
    "np_points = np.array(points)\n",
    "fig.add_points([np_points[:,0], np_points[:,1], np_points[:,2]])\n",
    "fig.show()"
   ]
  },
  {
   "cell_type": "code",
   "execution_count": null,
   "id": "73c2219f",
   "metadata": {},
   "outputs": [],
   "source": [
    "fig = plot_bloch_vector(sv)\n",
    "fig"
   ]
  },
  {
   "cell_type": "markdown",
   "id": "bec3b35f",
   "metadata": {},
   "source": [
    "# --- v2"
   ]
  },
  {
   "cell_type": "code",
   "execution_count": null,
   "id": "58f6d88d",
   "metadata": {},
   "outputs": [],
   "source": [
    "from ibm_quantum_widgets import CircuitComposer\n",
    "from qiskit import QuantumRegister, ClassicalRegister, QuantumCircuit\n",
    "from numpy import pi\n",
    "import numpy as np\n",
    "from qiskit.quantum_info.operators import Operator, Pauli"
   ]
  },
  {
   "cell_type": "code",
   "execution_count": null,
   "id": "8c3b1b35",
   "metadata": {},
   "outputs": [],
   "source": [
    "qreg_q = QuantumRegister(1, 'q')\n",
    "circuit = QuantumCircuit(qreg_q)"
   ]
  },
  {
   "cell_type": "code",
   "execution_count": null,
   "id": "60de9114",
   "metadata": {},
   "outputs": [],
   "source": [
    "def to_spherical(state):\n",
    "    r0 = np.abs(state[0])\n",
    "    ϕ0 = np.angle(state[0])\n",
    "    r1 = np.abs(state[1])\n",
    "    ϕ1 = np.angle(state[1])\n",
    "    r = np.sqrt(r0 ** 2 + r1 ** 2)\n",
    "    θ = 2 * np.arccos(r0 / r)\n",
    "    ϕ = ϕ1 - ϕ0\n",
    "    return [r, θ, ϕ]\n",
    "\n",
    "def to_cartesian(polar):\n",
    "    r = polar[0]\n",
    "    θ = polar[1]\n",
    "    ϕ = polar[2]\n",
    "    x = r * np.sin(θ) * np.cos(ϕ)\n",
    "    y = r * np.sin(θ) * np.sin(ϕ)\n",
    "    z = r * np.cos(θ)\n",
    "    return [x, y, z]"
   ]
  },
  {
   "cell_type": "code",
   "execution_count": null,
   "id": "02b52706",
   "metadata": {},
   "outputs": [],
   "source": [
    "def rn_so3(theta, n1,n2,n3):\n",
    "    return Operator([\n",
    "    [np.cos(theta/2)- 1j*n3*np.sin(theta/2), -np.sin(theta/2)*(n2+1j*n1)],\n",
    "    [np.sin(theta/2)*(n2-1j*n1), np.cos(theta/2)+1j*n3*np.sin(theta/2)]\n",
    "    ])"
   ]
  },
  {
   "cell_type": "code",
   "execution_count": 31,
   "id": "f89a5f1e",
   "metadata": {},
   "outputs": [
    {
     "ename": "ExtensionError",
     "evalue": "'Input matrix is not unitary.'",
     "output_type": "error",
     "traceback": [
      "\u001b[0;31m---------------------------------------------------------------------------\u001b[0m",
      "\u001b[0;31mExtensionError\u001b[0m                            Traceback (most recent call last)",
      "\u001b[1;32m/home/fation/Schreibtisch/Bachelorarbeit/Repo/quantum/bloch_sphere/rotate_so3_qiskit.ipynb Cell 15'\u001b[0m in \u001b[0;36m<cell line: 1>\u001b[0;34m()\u001b[0m\n\u001b[0;32m----> <a href='vscode-notebook-cell:/home/fation/Schreibtisch/Bachelorarbeit/Repo/quantum/bloch_sphere/rotate_so3_qiskit.ipynb#ch0000016?line=0'>1</a>\u001b[0m circuit\u001b[39m.\u001b[39;49munitary(rn_so3(pi,\u001b[39m1\u001b[39;49m,\u001b[39m0\u001b[39;49m,\u001b[39m1\u001b[39;49m),\u001b[39m1\u001b[39;49m)\n",
      "File \u001b[0;32m~/.local/lib/python3.8/site-packages/qiskit/extensions/unitary.py:255\u001b[0m, in \u001b[0;36munitary\u001b[0;34m(self, obj, qubits, label)\u001b[0m\n\u001b[1;32m    <a href='file:///home/fation/.local/lib/python3.8/site-packages/qiskit/extensions/unitary.py?line=237'>238</a>\u001b[0m \u001b[39mdef\u001b[39;00m \u001b[39munitary\u001b[39m(\u001b[39mself\u001b[39m, obj, qubits, label\u001b[39m=\u001b[39m\u001b[39mNone\u001b[39;00m):\n\u001b[1;32m    <a href='file:///home/fation/.local/lib/python3.8/site-packages/qiskit/extensions/unitary.py?line=238'>239</a>\u001b[0m     \u001b[39m\"\"\"Apply unitary gate specified by ``obj`` to ``qubits``.\u001b[39;00m\n\u001b[1;32m    <a href='file:///home/fation/.local/lib/python3.8/site-packages/qiskit/extensions/unitary.py?line=239'>240</a>\u001b[0m \n\u001b[1;32m    <a href='file:///home/fation/.local/lib/python3.8/site-packages/qiskit/extensions/unitary.py?line=240'>241</a>\u001b[0m \u001b[39m    Example:\u001b[39;00m\n\u001b[0;32m   (...)\u001b[0m\n\u001b[1;32m    <a href='file:///home/fation/.local/lib/python3.8/site-packages/qiskit/extensions/unitary.py?line=252'>253</a>\u001b[0m \u001b[39m            circuit.unitary(matrix, [0, 1])\u001b[39;00m\n\u001b[1;32m    <a href='file:///home/fation/.local/lib/python3.8/site-packages/qiskit/extensions/unitary.py?line=253'>254</a>\u001b[0m \u001b[39m    \"\"\"\u001b[39;00m\n\u001b[0;32m--> <a href='file:///home/fation/.local/lib/python3.8/site-packages/qiskit/extensions/unitary.py?line=254'>255</a>\u001b[0m     gate \u001b[39m=\u001b[39m UnitaryGate(obj, label\u001b[39m=\u001b[39;49mlabel)\n\u001b[1;32m    <a href='file:///home/fation/.local/lib/python3.8/site-packages/qiskit/extensions/unitary.py?line=255'>256</a>\u001b[0m     \u001b[39mif\u001b[39;00m \u001b[39misinstance\u001b[39m(qubits, QuantumRegister):\n\u001b[1;32m    <a href='file:///home/fation/.local/lib/python3.8/site-packages/qiskit/extensions/unitary.py?line=256'>257</a>\u001b[0m         qubits \u001b[39m=\u001b[39m qubits[:]\n",
      "File \u001b[0;32m~/.local/lib/python3.8/site-packages/qiskit/extensions/unitary.py:84\u001b[0m, in \u001b[0;36mUnitaryGate.__init__\u001b[0;34m(self, data, label)\u001b[0m\n\u001b[1;32m     <a href='file:///home/fation/.local/lib/python3.8/site-packages/qiskit/extensions/unitary.py?line=81'>82</a>\u001b[0m \u001b[39m# Check input is unitary\u001b[39;00m\n\u001b[1;32m     <a href='file:///home/fation/.local/lib/python3.8/site-packages/qiskit/extensions/unitary.py?line=82'>83</a>\u001b[0m \u001b[39mif\u001b[39;00m \u001b[39mnot\u001b[39;00m is_unitary_matrix(data):\n\u001b[0;32m---> <a href='file:///home/fation/.local/lib/python3.8/site-packages/qiskit/extensions/unitary.py?line=83'>84</a>\u001b[0m     \u001b[39mraise\u001b[39;00m ExtensionError(\u001b[39m\"\u001b[39m\u001b[39mInput matrix is not unitary.\u001b[39m\u001b[39m\"\u001b[39m)\n\u001b[1;32m     <a href='file:///home/fation/.local/lib/python3.8/site-packages/qiskit/extensions/unitary.py?line=84'>85</a>\u001b[0m \u001b[39m# Check input is N-qubit matrix\u001b[39;00m\n\u001b[1;32m     <a href='file:///home/fation/.local/lib/python3.8/site-packages/qiskit/extensions/unitary.py?line=85'>86</a>\u001b[0m input_dim, output_dim \u001b[39m=\u001b[39m data\u001b[39m.\u001b[39mshape\n",
      "\u001b[0;31mExtensionError\u001b[0m: 'Input matrix is not unitary.'"
     ]
    }
   ],
   "source": [
    "circuit.unitary(rn_so3(pi,1,0,1),1)\n"
   ]
  }
 ],
 "metadata": {
  "interpreter": {
   "hash": "916dbcbb3f70747c44a77c7bcd40155683ae19c65e1c03b4aa3499c5328201f1"
  },
  "kernelspec": {
   "display_name": "Python 3.8.10 64-bit",
   "language": "python",
   "name": "python3"
  },
  "language_info": {
   "codemirror_mode": {
    "name": "ipython",
    "version": 3
   },
   "file_extension": ".py",
   "mimetype": "text/x-python",
   "name": "python",
   "nbconvert_exporter": "python",
   "pygments_lexer": "ipython3",
   "version": "3.8.10"
  }
 },
 "nbformat": 4,
 "nbformat_minor": 5
}
