{
 "cells": [
  {
   "cell_type": "markdown",
   "id": "b0414bfe",
   "metadata": {},
   "source": [
    "# --- v1\n",
    "\n",
    "not functional. To be removed upon completion"
   ]
  },
  {
   "cell_type": "code",
   "execution_count": null,
   "id": "7063a92f",
   "metadata": {},
   "outputs": [],
   "source": [
    "from qiskit.quantum_info import Statevector\n",
    "\n",
    "from qiskit.visualization import plot_bloch_vector\n",
    "import numpy as np\n",
    "%matplotlib inline"
   ]
  },
  {
   "cell_type": "code",
   "execution_count": null,
   "id": "9022bfe1",
   "metadata": {},
   "outputs": [],
   "source": [
    "sv = []\n",
    "sv.append([0,1,0])\n",
    "sv.append([0,0,1])\n",
    "sv.append([1,0,0])\n",
    "\n",
    "print(sv)"
   ]
  },
  {
   "cell_type": "code",
   "execution_count": null,
   "id": "6ee0af5c",
   "metadata": {},
   "outputs": [],
   "source": [
    "def to_spherical(state):\n",
    "    r0 = np.abs(state[0])\n",
    "    ϕ0 = np.angle(state[0])\n",
    "    r1 = np.abs(state[1])\n",
    "    ϕ1 = np.angle(state[1])\n",
    "    r = np.sqrt(r0 ** 2 + r1 ** 2)\n",
    "    θ = 2 * np.arccos(r0 / r)\n",
    "    ϕ = ϕ1 - ϕ0\n",
    "    return [r, θ, ϕ]\n",
    "\n",
    "def to_cartesian(polar):\n",
    "    r = polar[0]\n",
    "    θ = polar[1]\n",
    "    ϕ = polar[2]\n",
    "    x = r * np.sin(θ) * np.cos(ϕ)\n",
    "    y = r * np.sin(θ) * np.sin(ϕ)\n",
    "    z = r * np.cos(θ)\n",
    "    return [x, y, z]"
   ]
  },
  {
   "cell_type": "markdown",
   "id": "8c1f3816",
   "metadata": {},
   "source": [
    "ToDo: Adapt to Qiskit and revise output"
   ]
  },
  {
   "cell_type": "code",
   "execution_count": null,
   "id": "1a7b5651",
   "metadata": {},
   "outputs": [],
   "source": [
    "#SO3\n",
    "def rn_so3(state, theta, phi, delta):\n",
    "    rn_mat = qt.Qobj(np.array(\n",
    "        [[np.cos(delta/2) - (0+1j)*np.cos(theta)*np.sin(delta/2),\n",
    "          -(0+1j)*np.exp(-(0+1j)*phi)*np.sin(delta/2)*np.sin(theta)],\n",
    "         [-(0+1j)*np.exp((0+1j)*phi)*np.sin(delta/2)*np.sin(theta),\n",
    "          np.cos(delta/2) + (0+1j)*np.cos(theta)*np.sin(delta/2)]]\n",
    "        ))\n",
    "    r_state = (rn_mat*state)*(rn_mat*state).dag()\n",
    "    return r_state"
   ]
  },
  {
   "cell_type": "code",
   "execution_count": null,
   "id": "1b24254f",
   "metadata": {},
   "outputs": [],
   "source": [
    "#fig = plot_bloch_vector(sv)\n",
    "#fig.clear()\n",
    "#fig.make_sphere()\n",
    "\n",
    "states = []\n",
    "points = []\n",
    "\n",
    "alpha = 1/np.sqrt(2)\n",
    "beta = 1/np.sqrt(2)\n",
    "s = np.array([alpha,beta])\n",
    "state = Statevector(s)\n",
    "states.append(state)\n",
    "\n",
    "Ψ = [complex(alpha, 0), complex(beta, 0)]\n",
    "polar = to_spherical(Ψ)\n",
    "pnt = to_cartesian(polar)\n",
    "points.append(pnt)\n",
    "\n",
    "rotated = state\n",
    "for i in range(0,10):\n",
    "    rotated = rn_so3(rotated, 0.4, 0.3, 0.2)\n",
    "    pnt = [(Statevector.sigmax()*rotated).tr(), (Statevector.sigmay()*rotated).tr(), (Statevector.sigmaz()*rotated).tr()]\n",
    "    r = np.sqrt(pnt[0]**2+pnt[1]**2+pnt[2]**2)\n",
    "    states.append(rotated)\n",
    "    points.append(pnt)\n",
    "\n",
    "fig.add_states(states)\n",
    "np_points = np.array(points)\n",
    "fig.add_points([np_points[:,0], np_points[:,1], np_points[:,2]])\n",
    "fig.show()"
   ]
  },
  {
   "cell_type": "code",
   "execution_count": null,
   "id": "73c2219f",
   "metadata": {},
   "outputs": [],
   "source": [
    "fig = plot_bloch_vector(sv)\n",
    "fig"
   ]
  },
  {
   "cell_type": "markdown",
   "id": "bec3b35f",
   "metadata": {},
   "source": [
    "# --- v2"
   ]
  },
  {
   "cell_type": "code",
   "execution_count": null,
   "id": "58f6d88d",
   "metadata": {},
   "outputs": [],
   "source": [
    "from ibm_quantum_widgets import CircuitComposer\n",
    "from qiskit.visualization import plot_bloch_multivector\n",
    "from qiskit import QuantumRegister, ClassicalRegister, QuantumCircuit\n",
    "from numpy import pi\n",
    "import numpy as np\n",
    "from qiskit.quantum_info.operators import Operator, Pauli"
   ]
  },
  {
   "cell_type": "code",
   "execution_count": null,
   "id": "8c3b1b35",
   "metadata": {},
   "outputs": [],
   "source": [
    "qreg_q = QuantumRegister(1, 'q')\n",
    "circuit = QuantumCircuit(qreg_q)"
   ]
  },
  {
   "cell_type": "code",
   "execution_count": null,
   "id": "9721f7a1",
   "metadata": {},
   "outputs": [],
   "source": [
    "# visualisation\n",
    "\n",
    "circuit.x(0)\n",
    "plot_bloch_multivector(circuit)\n"
   ]
  },
  {
   "cell_type": "code",
   "execution_count": null,
   "id": "60de9114",
   "metadata": {},
   "outputs": [],
   "source": [
    "def to_spherical(state):\n",
    "    r0 = np.abs(state[0])\n",
    "    ϕ0 = np.angle(state[0])\n",
    "    r1 = np.abs(state[1])\n",
    "    ϕ1 = np.angle(state[1])\n",
    "    r = np.sqrt(r0 ** 2 + r1 ** 2)\n",
    "    θ = 2 * np.arccos(r0 / r)\n",
    "    ϕ = ϕ1 - ϕ0\n",
    "    return [r, θ, ϕ]\n",
    "\n",
    "def to_cartesian(polar):\n",
    "    r = polar[0]\n",
    "    θ = polar[1]\n",
    "    ϕ = polar[2]\n",
    "    x = r * np.sin(θ) * np.cos(ϕ)\n",
    "    y = r * np.sin(θ) * np.sin(ϕ)\n",
    "    z = r * np.cos(θ)\n",
    "    return [x, y, z]"
   ]
  },
  {
   "cell_type": "code",
   "execution_count": null,
   "id": "02b52706",
   "metadata": {},
   "outputs": [],
   "source": [
    "def rn_so3(theta, n1,n2,n3):\n",
    "    #This represents a matrix operator that will evolve() a Statevector by matrix-vector multiplication and will evolve() a DensityMatrix by left and right multiplication\n",
    "    return Operator([\n",
    "    [np.cos(theta/2)- 1j*n3*np.sin(theta/2), -np.sin(theta/2)*(n2+1j*n1)],\n",
    "    [np.sin(theta/2)*(n2-1j*n1), np.cos(theta/2)+1j*n3*np.sin(theta/2)]\n",
    "    ])"
   ]
  },
  {
   "cell_type": "code",
   "execution_count": null,
   "id": "c350da94",
   "metadata": {},
   "outputs": [],
   "source": [
    "states = []\n",
    "points = []\n",
    "\n",
    "alpha = 1/np.sqrt(2)\n",
    "beta = 1/np.sqrt(2)\n",
    "s = np.array([alpha,beta])\n",
    "state = Statevector(s)\n",
    "states.append(state)\n",
    "\n",
    "Ψ = [complex(alpha, 0), complex(beta, 0)]\n",
    "polar = to_spherical(Ψ)\n",
    "pnt = to_cartesian(polar)\n",
    "points.append(pnt)\n",
    "\n",
    "rotated = state\n",
    "for i in range(0,10):\n",
    "\n",
    "    #Apply unitary gate specified by obj to qubits.\n",
    "    rotated = circuit.unitary(rn_so3(pi,0.4,0.3,0.2),1)\n",
    "    #ERROR: \"Input matrix is not unitary.\"\n",
    "\n",
    "\n",
    "    #ToDo: Change sigma* to qiskit\n",
    "    pnt = [(circuit.sigmax()*rotated).tr(), (circuit.sigmay()*rotated).tr(), (circuit.sigmaz()*rotated).tr()]\n",
    "\n",
    "    r = np.sqrt(pnt[0]**2+pnt[1]**2+pnt[2]**2)\n",
    "    states.append(rotated)\n",
    "    points.append(pnt)\n",
    "\n",
    "#ToDo: Add Points and Vectors to qubit\n",
    "circuit.add_bits(points)"
   ]
  },
  {
   "cell_type": "code",
   "execution_count": null,
   "id": "f89a5f1e",
   "metadata": {},
   "outputs": [],
   "source": [
    "#output\n",
    "plot_bloch_multivector(circuit)\n"
   ]
  }
 ],
 "metadata": {
  "interpreter": {
   "hash": "916dbcbb3f70747c44a77c7bcd40155683ae19c65e1c03b4aa3499c5328201f1"
  },
  "kernelspec": {
   "display_name": "Python 3.8.10 64-bit",
   "language": "python",
   "name": "python3"
  },
  "language_info": {
   "codemirror_mode": {
    "name": "ipython",
    "version": 3
   },
   "file_extension": ".py",
   "mimetype": "text/x-python",
   "name": "python",
   "nbconvert_exporter": "python",
   "pygments_lexer": "ipython3",
   "version": "3.8.10"
  }
 },
 "nbformat": 4,
 "nbformat_minor": 5
}
