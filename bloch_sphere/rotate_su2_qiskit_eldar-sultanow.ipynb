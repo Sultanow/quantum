{
 "cells": [
  {
   "cell_type": "code",
   "execution_count": 4,
   "id": "7063a92f",
   "metadata": {},
   "outputs": [],
   "source": [
    "from qiskit.quantum_info import Statevector\n",
    "from qiskit.visualization import plot_bloch_multivector\n",
    "from qiskit.quantum_info.operators import Operator, Pauli\n",
    "from qiskit import QuantumRegister, ClassicalRegister, QuantumCircuit, Aer, transpile\n",
    "from sympy.physics.quantum import pauli\n",
    "from numpy import pi\n",
    "import numpy as np\n"
   ]
  },
  {
   "cell_type": "code",
   "execution_count": 5,
   "id": "d8ed870b",
   "metadata": {},
   "outputs": [],
   "source": [
    "Aer.backends()\n",
    "simulator = Aer.get_backend('aer_simulator')\n",
    "qreg_q = QuantumRegister(1, 'q')\n",
    "circuit = QuantumCircuit(qreg_q)\n",
    "clreg = ClassicalRegister(1)\n",
    "sx = pauli.SigmaX()\n",
    "sy = pauli.SigmaY()\n",
    "sz = pauli.SigmaZ()"
   ]
  },
  {
   "cell_type": "code",
   "execution_count": 6,
   "id": "9022bfe1",
   "metadata": {},
   "outputs": [],
   "source": [
    "def to_spherical(state):\n",
    "    r0 = np.abs(state[0])\n",
    "    ϕ0 = np.angle(state[0])\n",
    "    r1 = np.abs(state[1])\n",
    "    ϕ1 = np.angle(state[1])\n",
    "    r = np.sqrt(r0 ** 2 + r1 ** 2)\n",
    "    θ = 2 * np.arccos(r0 / r)\n",
    "    ϕ = ϕ1 - ϕ0\n",
    "    return [r, θ, ϕ]\n",
    "\n",
    "def to_cartesian(polar):\n",
    "    r = polar[0]\n",
    "    θ = polar[1]\n",
    "    ϕ = polar[2]\n",
    "    x = r * np.sin(θ) * np.cos(ϕ)\n",
    "    y = r * np.sin(θ) * np.sin(ϕ)\n",
    "    z = r * np.cos(θ)\n",
    "    return [x, y, z]"
   ]
  },
  {
   "cell_type": "markdown",
   "id": "82a4c75e",
   "metadata": {},
   "source": [
    "Use of Operator-class: https://qiskit.org/documentation/tutorials/circuits_advanced/02_operators_overview.html#Operator-Class"
   ]
  },
  {
   "cell_type": "code",
   "execution_count": 10,
   "id": "0a74638b",
   "metadata": {},
   "outputs": [
    {
     "name": "stdout",
     "output_type": "stream",
     "text": [
      "[[ 1.00000000e+00+0.j -2.26527211e-17+0.j]\n",
      " [-2.26527211e-17+0.j  1.00000000e+00+0.j]]\n"
     ]
    }
   ],
   "source": [
    "# Matrix taken from\n",
    "# https://docplayer.org/117986458-Die-symmetriegruppen-so-3-und-su-2.html (p. 11, equation 46)\n",
    "# https://www.uni-muenster.de/Physik.TP/archive/fileadmin/lehre/teilchen/ws1011/SO3SU2.pdf (p. 8, equation 50)\n",
    "\n",
    "def rn_su2(theta, n):\n",
    "    n1 = n[0]\n",
    "    n2 = n[1]\n",
    "    n3 = n[2]\n",
    "    return Operator([\n",
    "        [np.cos(theta/2) - 1j*n3*np.sin(theta/2), -1j*(n1 - 1j*n2)*np.sin(theta/2)],\n",
    "        [-1j*(n1 + 1j*n2)*np.sin(theta/2), np.cos(theta/2) + 1j*n3*np.sin(theta/2)]\n",
    "    ], input_dims=(2, 1), output_dims=(2, 1))\n",
    "\n",
    "# Magnitude of the vector n must be 1\n",
    "n = [0,0,1]\n",
    "n = [1/np.sqrt(3), 1/np.sqrt(3), 1/np.sqrt(3)]\n",
    "\n",
    "# Debug: check if the matrix is unitary\n",
    "mat = np.array(rn_su2(5, n))\n",
    "# Compute A^dagger.A and see if it is identity matrix\n",
    "mat = np.conj(mat.T).dot(mat)\n",
    "print(mat)\n",
    "\n",
    "# construc the operator\n",
    "rotated = circuit.unitary(rn_su2(pi, n), 0)"
   ]
  },
  {
   "cell_type": "code",
   "execution_count": null,
   "id": "871a8217",
   "metadata": {},
   "outputs": [],
   "source": [
    "states = []\n",
    "points = []\n",
    "\n",
    "alpha = 1/np.sqrt(2)\n",
    "beta = 1/np.sqrt(2)\n",
    "s = np.array([alpha,beta])\n",
    "state = Statevector(s)\n",
    "states.append(state)\n",
    "\n",
    "Ψ = [complex(alpha, 0), complex(beta, 0)]\n",
    "polar = to_spherical(Ψ)\n",
    "pnt = to_cartesian(polar)\n",
    "points.append(pnt)\n",
    "\n",
    "rotated = state\n",
    "\n",
    "for i in range(0,10):\n",
    "\n",
    "    #Apply unitary gate specified by obj to qubits.\n",
    "    rotated = circuit.unitary(rn_su2_2(pi,1,np.pi,0.5),1)\n",
    "\n",
    "\n",
    "    pnt = [(sx*rotated), (sy*rotated), (sz*rotated)]\n",
    "\n",
    "    #ToDo: patch function\n",
    "    r = np.sqrt(pnt[0]**2+pnt[1]**2+pnt[2]**2)\n",
    "\n",
    "    states.append(rotated)\n",
    "    points.append(pnt)\n",
    "\n",
    "circuit.add_bits(points)"
   ]
  }
 ],
 "metadata": {
  "interpreter": {
   "hash": "7c936ca26d928ed2f273f5ea0f7b833cbbe474d1d3e789bb1ebcf7d5692368d3"
  },
  "kernelspec": {
   "display_name": "Python 3.9.7 ('base')",
   "language": "python",
   "name": "python3"
  },
  "language_info": {
   "codemirror_mode": {
    "name": "ipython",
    "version": 3
   },
   "file_extension": ".py",
   "mimetype": "text/x-python",
   "name": "python",
   "nbconvert_exporter": "python",
   "pygments_lexer": "ipython3",
   "version": "3.9.7"
  }
 },
 "nbformat": 4,
 "nbformat_minor": 5
}
