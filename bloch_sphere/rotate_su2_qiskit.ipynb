{
 "cells": [
  {
   "cell_type": "code",
   "execution_count": 2,
   "id": "7063a92f",
   "metadata": {},
   "outputs": [],
   "source": [
    "from ibm_quantum_widgets import CircuitComposer\n",
    "\n",
    "from sympy.physics.quantum import pauli\n",
    "from qiskit.quantum_info import Statevector\n",
    "from qiskit.visualization import plot_bloch_multivector\n",
    "\n",
    "from qiskit import QuantumRegister, ClassicalRegister, QuantumCircuit\n",
    "from numpy import pi\n",
    "import numpy as np\n",
    "from qiskit.quantum_info.operators import Operator, Pauli"
   ]
  },
  {
   "cell_type": "code",
   "execution_count": 3,
   "id": "7593d7a9",
   "metadata": {},
   "outputs": [],
   "source": [
    "qreg_q = QuantumRegister(1, 'q')\n",
    "circuit = QuantumCircuit(qreg_q)\n",
    "\n",
    "clreg = ClassicalRegister(1)\n",
    "\n",
    "sx = pauli.SigmaX()\n",
    "sy = pauli.SigmaY()\n",
    "sz = pauli.SigmaZ()"
   ]
  },
  {
   "cell_type": "code",
   "execution_count": 4,
   "id": "9022bfe1",
   "metadata": {},
   "outputs": [],
   "source": [
    "def to_spherical(state):\n",
    "    r0 = np.abs(state[0])\n",
    "    ϕ0 = np.angle(state[0])\n",
    "    r1 = np.abs(state[1])\n",
    "    ϕ1 = np.angle(state[1])\n",
    "    r = np.sqrt(r0 ** 2 + r1 ** 2)\n",
    "    θ = 2 * np.arccos(r0 / r)\n",
    "    ϕ = ϕ1 - ϕ0\n",
    "    return [r, θ, ϕ]\n",
    "\n",
    "def to_cartesian(polar):\n",
    "    r = polar[0]\n",
    "    θ = polar[1]\n",
    "    ϕ = polar[2]\n",
    "    x = r * np.sin(θ) * np.cos(ϕ)\n",
    "    y = r * np.sin(θ) * np.sin(ϕ)\n",
    "    z = r * np.cos(θ)\n",
    "    return [x, y, z]"
   ]
  },
  {
   "cell_type": "code",
   "execution_count": 13,
   "id": "9f4f8d2e",
   "metadata": {},
   "outputs": [],
   "source": [
    "def rn_su2(theta, n1,n2,n3):\n",
    "    #This represents a matrix operator that will evolve() a Statevector by matrix-vector multiplication and will evolve() a DensityMatrix by left and right multiplication\n",
    "    return Operator([\n",
    "    [np.cos(n1/2.0)*np.exp(1j/2.0*(n2+n3)), np.sin(n1/2)*np.exp(-(1j/2.0)+(n2-n3))],\n",
    "    [-np.sin(n1/2.0)*np.exp(1j/2.0*(n2-n3)), np.cos(n1/2)*np.exp(-1j/2.0*(n2+n3))]\n",
    "    #ToDo: find unitary SU(2) matrix\n",
    "    ])"
   ]
  },
  {
   "cell_type": "code",
   "execution_count": 18,
   "id": "871a8217",
   "metadata": {},
   "outputs": [
    {
     "name": "stdout",
     "output_type": "stream",
     "text": [
      "Operator([[ 0.47415988+0.73846026j,  0.42073549-0.22984885j],\n",
      "          [-0.47942554+0.j        ,  0.47415988-0.73846026j]],\n",
      "         input_dims=(2,), output_dims=(2,))\n"
     ]
    },
    {
     "ename": "ExtensionError",
     "evalue": "'Input matrix is not unitary.'",
     "output_type": "error",
     "traceback": [
      "\u001b[0;31m---------------------------------------------------------------------------\u001b[0m",
      "\u001b[0;31mExtensionError\u001b[0m                            Traceback (most recent call last)",
      "\u001b[1;32m/home/fation/Schreibtisch/Bachelorarbeit/Repo/quantum/bloch_sphere/rotate_su2_qiskit.ipynb Cell 5'\u001b[0m in \u001b[0;36m<cell line: 17>\u001b[0;34m()\u001b[0m\n\u001b[1;32m     <a href='vscode-notebook-cell:/home/fation/Schreibtisch/Bachelorarbeit/Repo/quantum/bloch_sphere/rotate_su2_qiskit.ipynb#ch0000004?line=18'>19</a>\u001b[0m \u001b[39mprint\u001b[39m(rn_su2(pi,\u001b[39m1\u001b[39m,\u001b[39m1\u001b[39m,\u001b[39m1\u001b[39m))\n\u001b[1;32m     <a href='vscode-notebook-cell:/home/fation/Schreibtisch/Bachelorarbeit/Repo/quantum/bloch_sphere/rotate_su2_qiskit.ipynb#ch0000004?line=19'>20</a>\u001b[0m \u001b[39m#Apply unitary gate specified by obj to qubits.\u001b[39;00m\n\u001b[0;32m---> <a href='vscode-notebook-cell:/home/fation/Schreibtisch/Bachelorarbeit/Repo/quantum/bloch_sphere/rotate_su2_qiskit.ipynb#ch0000004?line=20'>21</a>\u001b[0m rotated \u001b[39m=\u001b[39m circuit\u001b[39m.\u001b[39;49munitary(rn_su2(pi,\u001b[39m1\u001b[39;49m,\u001b[39m1\u001b[39;49m,\u001b[39m1\u001b[39;49m),\u001b[39m1\u001b[39;49m)\n\u001b[1;32m     <a href='vscode-notebook-cell:/home/fation/Schreibtisch/Bachelorarbeit/Repo/quantum/bloch_sphere/rotate_su2_qiskit.ipynb#ch0000004?line=22'>23</a>\u001b[0m pnt \u001b[39m=\u001b[39m [(sx\u001b[39m*\u001b[39mrotated), (sy\u001b[39m*\u001b[39mrotated), (sz\u001b[39m*\u001b[39mrotated)]\n\u001b[1;32m     <a href='vscode-notebook-cell:/home/fation/Schreibtisch/Bachelorarbeit/Repo/quantum/bloch_sphere/rotate_su2_qiskit.ipynb#ch0000004?line=24'>25</a>\u001b[0m \u001b[39m#ToDo: patch function\u001b[39;00m\n",
      "File \u001b[0;32m~/.local/lib/python3.8/site-packages/qiskit/extensions/unitary.py:255\u001b[0m, in \u001b[0;36munitary\u001b[0;34m(self, obj, qubits, label)\u001b[0m\n\u001b[1;32m    <a href='file:///home/fation/.local/lib/python3.8/site-packages/qiskit/extensions/unitary.py?line=237'>238</a>\u001b[0m \u001b[39mdef\u001b[39;00m \u001b[39munitary\u001b[39m(\u001b[39mself\u001b[39m, obj, qubits, label\u001b[39m=\u001b[39m\u001b[39mNone\u001b[39;00m):\n\u001b[1;32m    <a href='file:///home/fation/.local/lib/python3.8/site-packages/qiskit/extensions/unitary.py?line=238'>239</a>\u001b[0m     \u001b[39m\"\"\"Apply unitary gate specified by ``obj`` to ``qubits``.\u001b[39;00m\n\u001b[1;32m    <a href='file:///home/fation/.local/lib/python3.8/site-packages/qiskit/extensions/unitary.py?line=239'>240</a>\u001b[0m \n\u001b[1;32m    <a href='file:///home/fation/.local/lib/python3.8/site-packages/qiskit/extensions/unitary.py?line=240'>241</a>\u001b[0m \u001b[39m    Example:\u001b[39;00m\n\u001b[0;32m   (...)\u001b[0m\n\u001b[1;32m    <a href='file:///home/fation/.local/lib/python3.8/site-packages/qiskit/extensions/unitary.py?line=252'>253</a>\u001b[0m \u001b[39m            circuit.unitary(matrix, [0, 1])\u001b[39;00m\n\u001b[1;32m    <a href='file:///home/fation/.local/lib/python3.8/site-packages/qiskit/extensions/unitary.py?line=253'>254</a>\u001b[0m \u001b[39m    \"\"\"\u001b[39;00m\n\u001b[0;32m--> <a href='file:///home/fation/.local/lib/python3.8/site-packages/qiskit/extensions/unitary.py?line=254'>255</a>\u001b[0m     gate \u001b[39m=\u001b[39m UnitaryGate(obj, label\u001b[39m=\u001b[39;49mlabel)\n\u001b[1;32m    <a href='file:///home/fation/.local/lib/python3.8/site-packages/qiskit/extensions/unitary.py?line=255'>256</a>\u001b[0m     \u001b[39mif\u001b[39;00m \u001b[39misinstance\u001b[39m(qubits, QuantumRegister):\n\u001b[1;32m    <a href='file:///home/fation/.local/lib/python3.8/site-packages/qiskit/extensions/unitary.py?line=256'>257</a>\u001b[0m         qubits \u001b[39m=\u001b[39m qubits[:]\n",
      "File \u001b[0;32m~/.local/lib/python3.8/site-packages/qiskit/extensions/unitary.py:84\u001b[0m, in \u001b[0;36mUnitaryGate.__init__\u001b[0;34m(self, data, label)\u001b[0m\n\u001b[1;32m     <a href='file:///home/fation/.local/lib/python3.8/site-packages/qiskit/extensions/unitary.py?line=81'>82</a>\u001b[0m \u001b[39m# Check input is unitary\u001b[39;00m\n\u001b[1;32m     <a href='file:///home/fation/.local/lib/python3.8/site-packages/qiskit/extensions/unitary.py?line=82'>83</a>\u001b[0m \u001b[39mif\u001b[39;00m \u001b[39mnot\u001b[39;00m is_unitary_matrix(data):\n\u001b[0;32m---> <a href='file:///home/fation/.local/lib/python3.8/site-packages/qiskit/extensions/unitary.py?line=83'>84</a>\u001b[0m     \u001b[39mraise\u001b[39;00m ExtensionError(\u001b[39m\"\u001b[39m\u001b[39mInput matrix is not unitary.\u001b[39m\u001b[39m\"\u001b[39m)\n\u001b[1;32m     <a href='file:///home/fation/.local/lib/python3.8/site-packages/qiskit/extensions/unitary.py?line=84'>85</a>\u001b[0m \u001b[39m# Check input is N-qubit matrix\u001b[39;00m\n\u001b[1;32m     <a href='file:///home/fation/.local/lib/python3.8/site-packages/qiskit/extensions/unitary.py?line=85'>86</a>\u001b[0m input_dim, output_dim \u001b[39m=\u001b[39m data\u001b[39m.\u001b[39mshape\n",
      "\u001b[0;31mExtensionError\u001b[0m: 'Input matrix is not unitary.'"
     ]
    }
   ],
   "source": [
    "states = []\n",
    "points = []\n",
    "\n",
    "alpha = 1/np.sqrt(2)\n",
    "beta = 1/np.sqrt(2)\n",
    "s = np.array([alpha,beta])\n",
    "state = Statevector(s)\n",
    "states.append(state)\n",
    "\n",
    "Ψ = [complex(alpha, 0), complex(beta, 0)]\n",
    "polar = to_spherical(Ψ)\n",
    "pnt = to_cartesian(polar)\n",
    "points.append(pnt)\n",
    "\n",
    "rotated = state\n",
    "\n",
    "for i in range(0,10):\n",
    "\n",
    "    print(rn_su2(pi,1,1,1))\n",
    "    #Apply unitary gate specified by obj to qubits.\n",
    "    rotated = circuit.unitary(rn_su2(pi,1,1,1),1)\n",
    "\n",
    "    pnt = [(sx*rotated), (sy*rotated), (sz*rotated)]\n",
    "\n",
    "    #ToDo: patch function\n",
    "    r = np.sqrt(pnt[0]**2+pnt[1]**2+pnt[2]**2)\n",
    "\n",
    "    states.append(rotated)\n",
    "    points.append(pnt)\n",
    "\n",
    "#ToDo: Add Points and Vectors to qubit\n",
    "circuit.add_bits(points)"
   ]
  }
 ],
 "metadata": {
  "interpreter": {
   "hash": "916dbcbb3f70747c44a77c7bcd40155683ae19c65e1c03b4aa3499c5328201f1"
  },
  "kernelspec": {
   "display_name": "Python 3.8.10 64-bit",
   "language": "python",
   "name": "python3"
  },
  "language_info": {
   "codemirror_mode": {
    "name": "ipython",
    "version": 3
   },
   "file_extension": ".py",
   "mimetype": "text/x-python",
   "name": "python",
   "nbconvert_exporter": "python",
   "pygments_lexer": "ipython3",
   "version": "3.8.10"
  }
 },
 "nbformat": 4,
 "nbformat_minor": 5
}
