{
 "cells": [
  {
   "cell_type": "code",
   "execution_count": 3,
   "id": "7063a92f",
   "metadata": {},
   "outputs": [],
   "source": [
    "from ibm_quantum_widgets import CircuitComposer\n",
    "\n",
    "from qiskit.quantum_info import Statevector, Pauli\n",
    "from qiskit.visualization import plot_bloch_multivector\n",
    "\n",
    "from qiskit.circuit.library import EfficientSU2\n",
    "\n",
    "from qiskit import QuantumRegister, ClassicalRegister, QuantumCircuit, Aer, transpile\n",
    "from numpy import pi\n",
    "import numpy as np\n",
    "from qiskit.quantum_info.operators import Operator, Pauli"
   ]
  },
  {
   "cell_type": "code",
   "execution_count": 19,
   "id": "d8ed870b",
   "metadata": {},
   "outputs": [],
   "source": [
    "Aer.backends()\n",
    "simulator = Aer.get_backend('aer_simulator')\n",
    "\n",
    "qreg_q = QuantumRegister(1, 'q')\n",
    "circuit = QuantumCircuit(qreg_q)\n",
    "\n",
    "clreg = ClassicalRegister(1)\n",
    "\n",
    "sx = pauli.SigmaX()\n",
    "sy = pauli.SigmaY()\n",
    "sz = pauli.SigmaZ()"
   ]
  },
  {
   "cell_type": "code",
   "execution_count": 3,
   "id": "9022bfe1",
   "metadata": {},
   "outputs": [],
   "source": [
    "def to_spherical(state):\n",
    "    r0 = np.abs(state[0])\n",
    "    ϕ0 = np.angle(state[0])\n",
    "    r1 = np.abs(state[1])\n",
    "    ϕ1 = np.angle(state[1])\n",
    "    r = np.sqrt(r0 ** 2 + r1 ** 2)\n",
    "    θ = 2 * np.arccos(r0 / r)\n",
    "    ϕ = ϕ1 - ϕ0\n",
    "    return [r, θ, ϕ]\n",
    "\n",
    "def to_cartesian(polar):\n",
    "    r = polar[0]\n",
    "    θ = polar[1]\n",
    "    ϕ = polar[2]\n",
    "    x = r * np.sin(θ) * np.cos(ϕ)\n",
    "    y = r * np.sin(θ) * np.sin(ϕ)\n",
    "    z = r * np.cos(θ)\n",
    "    return [x, y, z]"
   ]
  },
  {
   "cell_type": "markdown",
   "id": "82a4c75e",
   "metadata": {},
   "source": [
    "Use of Operator-class: https://qiskit.org/documentation/tutorials/circuits_advanced/02_operators_overview.html#Operator-Class"
   ]
  },
  {
   "cell_type": "code",
   "execution_count": 23,
   "id": "9f4f8d2e",
   "metadata": {},
   "outputs": [
    {
     "name": "stdout",
     "output_type": "stream",
     "text": [
      "[[(0.4741598817790379+0.7384602626041288j), (0.42073549240394825-0.22984884706593015j)], [(-0.479425538604203+0j), (0.4741598817790379-0.7384602626041288j)]]\n"
     ]
    }
   ],
   "source": [
    "def rn_su2_1(theta, n1,n2,n3):\n",
    "    #This represents a matrix operator that will evolve() a Statevector by matrix-vector multiplication and will evolve() a DensityMatrix by left and right multiplication\n",
    "    return ([\n",
    "    [np.cos(n1/2.0)*np.exp(1j/2.0*(n2+n3)), np.sin(n1/2)*np.exp(-(1j/2.0)+(n2-n3))],\n",
    "    [-np.sin(n1/2.0)*np.exp(1j/2.0*(n2-n3)), np.cos(n1/2)*np.exp(-1j/2.0*(n2+n3))]\n",
    "    #ToDo: find unitary SU(2) matrix\n",
    "    ])\n",
    "\n",
    "#https://link.springer.com/content/pdf/bbm%3A978-3-540-29082-7%2F1.pdf\n",
    "\n",
    "print(rn_su2_1(pi,1,1,1))\n",
    "\n",
    "circuit = transpile(circuit, simulator)"
   ]
  },
  {
   "cell_type": "code",
   "execution_count": 86,
   "id": "9f4f8d2e",
   "metadata": {},
   "outputs": [
    {
     "name": "stdout",
     "output_type": "stream",
     "text": [
      "Operator([[ 0.47415988+0.73846026j,  0.42073549-0.22984885j],\n",
      "          [-0.47942554+0.j        ,  0.47415988-0.73846026j]],\n",
      "         input_dims=(2,), output_dims=(2,))\n"
     ]
    }
   ],
   "source": [
    "def rn_su2_1a(theta, n1,n2,n3):\n",
    "    #This represents a matrix operator that will evolve() a Statevector by matrix-vector multiplication and will evolve() a DensityMatrix by left and right multiplication\n",
    "    return Operator([\n",
    "    [np.cos(n1/2.0)*np.exp(1j/2.0*(n2+n3)), np.sin(n1/2)*np.exp(-(1j/2.0)+(n2-n3))],\n",
    "    [-np.sin(n1/2.0)*np.exp(1j/2.0*(n2-n3)), np.cos(n1/2)*np.exp(-1j/2.0*(n2+n3))]\n",
    "    #ToDo: find unitary SU(2) matrix\n",
    "    ])\n",
    "\n",
    "print(rn_su2_1a(pi,1,1,1))\n",
    "#rotated = circuit.unitary(rn_su2_1a(pi,1,np.pi,0.5),1)\n",
    "\n",
    "#https://link.springer.com/content/pdf/bbm%3A978-3-540-29082-7%2F1.pdf"
   ]
  },
  {
   "cell_type": "code",
   "execution_count": null,
   "id": "f698c3bd",
   "metadata": {},
   "outputs": [],
   "source": [
    "def rn_su2_2(n1,n2,n3):\n",
    "    #This represents a matrix operator that will evolve() a Statevector by matrix-vector multiplication and will evolve() a DensityMatrix by left and right multiplication\n",
    "    op = ([\n",
    "    [np.exp(1j+(n1+n2)/2)+np.cos(0.5+n3) , 1j+np.exp(1j*(n1-n2)/2)*np.sin(0.5+n3)],\n",
    "    [1j+np.exp(1j*(n2-n1)/2)*np.sin(0.5*n3) , np.exp(-1j*(n1+n2)/2)*np.cos(0.5*n3)]\n",
    "    #ToDo: find unitary SU(2) matrix\n",
    "    ])\n",
    "    return op\n",
    "\n",
    "#  0 <= n1 < 2pi\n",
    "#  0 <= n3 < pi\n",
    "# -2pi <= n2 < 2pi\n",
    "\n",
    "print(rn_su2_2(1,np.pi,0.5))\n",
    "rotated = circuit.unitary(rn_su2_2(1,np.pi,0.5),1)\n",
    "\n",
    "circuit.append(rn_su2_2(1,np.pi,0.5))\n",
    "circuit.draw\n"
   ]
  },
  {
   "cell_type": "code",
   "execution_count": null,
   "id": "500152aa",
   "metadata": {},
   "outputs": [],
   "source": [
    "def rn_su2_3(theta, n1,n2,n3):\n",
    "    #This represents a matrix operator that will evolve() a Statevector by matrix-vector multiplication and will evolve() a DensityMatrix by left and right multiplication\n",
    "    return Operator([\n",
    "    [np.cos(theta/2)- 1j*n3*np.sin(theta/2), -np.sin(theta/2)*(n2+1j*n1)],\n",
    "    [np.sin(theta/2)*(n2-1j*n1), np.cos(theta/2)+1j*n3*np.sin(theta/2)]\n",
    "    ])\n",
    "\n",
    "print(rn_su2_3(1,1,np.pi,0.5))\n",
    "#rotated = circuit.unitary(rn_su2_2(pi,1,np.pi,0.5),1)\n"
   ]
  },
  {
   "cell_type": "code",
   "execution_count": null,
   "id": "ac7c3313",
   "metadata": {},
   "outputs": [],
   "source": [
    "def rn_su2_4(theta, n1,n2,n3):\n",
    "    #This represents a matrix operator that will evolve() a Statevector by matrix-vector multiplication and will evolve() a DensityMatrix by left and right multiplication\n",
    "    return Operator([\n",
    "    [np.cos(theta/2)+ 1j*n3*np.sin(theta/2), -1j*(n1-1j*n2)*np.sin(theta/2)],\n",
    "    [-1j*(n1+1j*n2)*np.sin(theta/2), np.cos(theta/2)+1j*n3*np.sin(theta/2)]\n",
    "    ])\n",
    "\n",
    "print(rn_su2_4(1,1,np.pi,0.5))\n",
    "rotated = circuit.unitary(rn_su2_4(np.pi,1,np.pi,0.5),1)\n",
    "\n",
    "#https://www.uni-muenster.de/Physik.TP/archive/fileadmin/lehre/teilchen/ws1011/SO3SU2.pdf"
   ]
  },
  {
   "cell_type": "code",
   "execution_count": null,
   "id": "0a74638b",
   "metadata": {},
   "outputs": [],
   "source": [
    "def rn_su2_5(theta, n1,n2,n3):\n",
    "    #This represents a matrix operator that will evolve() a Statevector by matrix-vector multiplication and will evolve() a DensityMatrix by left and right multiplication\n",
    "    return Operator([\n",
    "    [np.cos(theta/2)- 1j*n3*np.sin(theta/2), -1j*(n1-1j*n2)*np.sin(theta/2)],\n",
    "    [-1j*(n1+1j*n2)*np.sin(theta/2), np.cos(theta/2)+1j*n3*np.sin(theta/2)]\n",
    "    ],input_dims=(2, 1), output_dims=(2, 1))\n",
    "\n",
    "print(rn_su2_5(pi,1,1,1))\n",
    "circuit.unitary(rn_su2_5(pi,1,1,1),0)\n",
    "\n",
    "#Quelle: https://docplayer.org/117986458-Die-symmetriegruppen-so-3-und-su-2.html\n"
   ]
  },
  {
   "cell_type": "code",
   "execution_count": null,
   "id": "ca5bd03a",
   "metadata": {},
   "outputs": [],
   "source": [
    "def rn_su2_6(theta, n1,n2,n3):\n",
    "    #This represents a matrix operator that will evolve() a Statevector by matrix-vector multiplication and will evolve() a DensityMatrix by left and right multiplication\n",
    "    return ([\n",
    "    [np.cos(theta/2)- 1j*n3*np.sin(theta/2), -1j*(n1-1j*n2)*np.sin(theta/2)],\n",
    "    [-1j*(n1+1j*n2)*np.sin(theta/2), np.cos(theta/2)+1j*n3*np.sin(theta/2)]\n",
    "    ])\n",
    "\n",
    "print(rn_su2_6(pi,1,1,1))\n",
    "\n",
    "efcircuit = EfficientSU2(1,rn_su2_6(pi,1,1,1))\n",
    "\n",
    "#Quelle: https://qiskit.org/documentation/stubs/qiskit.circuit.library.EfficientSU2.html\n"
   ]
  },
  {
   "cell_type": "code",
   "execution_count": null,
   "id": "871a8217",
   "metadata": {},
   "outputs": [],
   "source": [
    "states = []\n",
    "points = []\n",
    "\n",
    "alpha = 1/np.sqrt(2)\n",
    "beta = 1/np.sqrt(2)\n",
    "s = np.array([alpha,beta])\n",
    "state = Statevector(s)\n",
    "states.append(state)\n",
    "\n",
    "Ψ = [complex(alpha, 0), complex(beta, 0)]\n",
    "polar = to_spherical(Ψ)\n",
    "pnt = to_cartesian(polar)\n",
    "points.append(pnt)\n",
    "\n",
    "rotated = state\n",
    "\n",
    "for i in range(0,10):\n",
    "\n",
    "    #Apply unitary gate specified by obj to qubits.\n",
    "    rotated = circuit.unitary(rn_su2_2(pi,1,np.pi,0.5),1)\n",
    "\n",
    "\n",
    "    pnt = [(sx*rotated), (sy*rotated), (sz*rotated)]\n",
    "\n",
    "    #ToDo: patch function\n",
    "    r = np.sqrt(pnt[0]**2+pnt[1]**2+pnt[2]**2)\n",
    "\n",
    "    states.append(rotated)\n",
    "    points.append(pnt)\n",
    "\n",
    "circuit.add_bits(points)"
   ]
  }
 ],
 "metadata": {
  "interpreter": {
   "hash": "916dbcbb3f70747c44a77c7bcd40155683ae19c65e1c03b4aa3499c5328201f1"
  },
  "kernelspec": {
   "display_name": "Python 3.8.10 64-bit",
   "language": "python",
   "name": "python3"
  },
  "language_info": {
   "codemirror_mode": {
    "name": "ipython",
    "version": 3
   },
   "file_extension": ".py",
   "mimetype": "text/x-python",
   "name": "python",
   "nbconvert_exporter": "python",
   "pygments_lexer": "ipython3",
   "version": "3.8.10"
  }
 },
 "nbformat": 4,
 "nbformat_minor": 5
}
