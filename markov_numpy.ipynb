{
 "cells": [
  {
   "cell_type": "code",
   "execution_count": 1,
   "metadata": {
    "id": "a42M43IPu1cD"
   },
   "outputs": [],
   "source": [
    "# Imports\n",
    "import numpy as np\n",
    "from numpy.linalg import matrix_power"
   ]
  },
  {
   "cell_type": "code",
   "execution_count": 8,
   "metadata": {},
   "outputs": [
    {
     "name": "stdout",
     "output_type": "stream",
     "text": [
      "[0.  0.2 0.8]\n",
      "[0.37  0.126 0.504]\n"
     ]
    }
   ],
   "source": [
    "# https://de.wikipedia.org/wiki/Markow-Kette\n",
    "\n",
    "M = np.array([[0, 0.2, 0.8], [0.5, 0, 0.5], [0.1, 0.9, 0]])\n",
    "v0=np.array([1,0,0])\n",
    "v1=v0.dot(M)\n",
    "print(v1)\n",
    "v3=v0.dot(matrix_power(M, 3))\n",
    "print(v3)"
   ]
  },
  {
   "cell_type": "code",
   "execution_count": 11,
   "metadata": {},
   "outputs": [],
   "source": [
    "import qiskit\n",
    "from qiskit import Aer"
   ]
  },
  {
   "cell_type": "code",
   "execution_count": 12,
   "metadata": {},
   "outputs": [
    {
     "name": "stderr",
     "output_type": "stream",
     "text": [
      "ibmqfactory.load_account:WARNING:2021-12-09 14:01:13,582: Credentials are already in use. The existing account in the session will be replaced.\n"
     ]
    }
   ],
   "source": [
    "qiskit.IBMQ.save_account('eb08238c63f3033045586378fa2729f0ccd676ea4c269db5bdfcb1cc720e92be31ddb8d5986f929a8cd904778a476f5f1705fb3f5ed1b14e412dce47ba3b913c', overwrite=True)\n",
    "qiskit.IBMQ.load_account()\n",
    "\n",
    "n_wires = 1\n",
    "n_qubits = 1\n",
    "provider = qiskit.IBMQ.get_provider('ibm-q')\n",
    "backend = Aer.get_backend('qasm_simulator')\n"
   ]
  }
 ],
 "metadata": {
  "colab": {
   "collapsed_sections": [],
   "name": "graphwizz-tree.ipynb",
   "provenance": [],
   "toc_visible": true
  },
  "interpreter": {
   "hash": "978bc9a35a679b8dad16aa95aa246066ffef6632ff9fcbe9e2c71acd629a230e"
  },
  "kernelspec": {
   "display_name": "Python 3.8.3 64-bit (conda)",
   "name": "python3"
  },
  "language_info": {
   "codemirror_mode": {
    "name": "ipython",
    "version": 3
   },
   "file_extension": ".py",
   "mimetype": "text/x-python",
   "name": "python",
   "nbconvert_exporter": "python",
   "pygments_lexer": "ipython3",
   "version": "3.9.7"
  }
 },
 "nbformat": 4,
 "nbformat_minor": 2
}
