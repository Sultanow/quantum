{
 "cells": [
  {
   "cell_type": "markdown",
   "metadata": {},
   "source": [
    "This notebook is largely based on the post [\"quantum label classification using qiskit\"](https://quantumcomputing.stackexchange.com/questions/17847/quantum-label-classification-using-qiskit) and its answer by [Tristan Nemoz](https://quantumcomputing.stackexchange.com/users/10454/tristan-nemoz) on Quantum Computing StackExchange"
   ]
  },
  {
   "cell_type": "code",
   "execution_count": 1,
   "metadata": {
    "id": "a42M43IPu1cD"
   },
   "outputs": [],
   "source": [
    "# Imports\n",
    "import numpy as np\n",
    "import matplotlib.pyplot as plt\n",
    "from sklearn.model_selection import train_test_split\n",
    "from sklearn.metrics import f1_score\n",
    "import random\n",
    "\n",
    "import qiskit\n",
    "from qiskit import QuantumCircuit, ClassicalRegister, QuantumRegister\n",
    "from qiskit import Aer\n",
    "from qiskit import execute\n",
    "import numpy as np"
   ]
  },
  {
   "cell_type": "code",
   "execution_count": 2,
   "metadata": {},
   "outputs": [],
   "source": [
    "qiskit.IBMQ.save_account('your_token', overwrite=True)"
   ]
  },
  {
   "cell_type": "code",
   "execution_count": 3,
   "metadata": {},
   "outputs": [
    {
     "data": {
      "text/plain": [
       "<AccountProvider for IBMQ(hub='ibm-q', group='open', project='main')>"
      ]
     },
     "execution_count": 3,
     "metadata": {},
     "output_type": "execute_result"
    }
   ],
   "source": [
    "qiskit.IBMQ.load_account()"
   ]
  },
  {
   "cell_type": "code",
   "execution_count": 30,
   "metadata": {},
   "outputs": [
    {
     "data": {
      "image/png": "[encoded data removed]",
      "text/plain": [
       "<Figure size 432x288 with 1 Axes>"
      ]
     },
     "metadata": {
      "needs_background": "light"
     },
     "output_type": "display_data"
    }
   ],
   "source": [
    "m, b = 1, 0\n",
    "\n",
    "lower, upper = -40, 40\n",
    "num_points = 40\n",
    "x1 = [random.randrange(start=-40, stop=40) for i in range(num_points)]\n",
    "x2 = [random.randrange(start=-40, stop=40) for i in range(num_points)]\n",
    "\n",
    "y1 = [random.randrange(start=lower, stop=m*x+b) for x in x1]\n",
    "y2 = [random.randrange(start=m*x+b, stop=upper) for x in x2]\n",
    "\n",
    "plt.plot(np.arange(-40,40), m*np.arange(-40,40)+b)\n",
    "plt.scatter(x1, y1, c='red')\n",
    "plt.scatter(x2, y2, c='blue')\n",
    "plt.show()\n",
    "\n",
    "x1, x2, y1, y2 = np.array(x1).reshape(-1,1), np.array(x2).reshape(-1,1), np.array(y1).reshape(-1,1), np.array(y2).reshape(-1,1)\n",
    "\n",
    "x_upper = np.concatenate((x2, y2), axis=1)\n",
    "x_lower = np.concatenate((x1, y1), axis=1)\n",
    "X = np.concatenate((x_upper, x_lower), axis=0)\n",
    "\n",
    "res1 = np.array([-1]*len(x1))\n",
    "res2 = np.array([1]*len(x2))\n",
    "y = np.concatenate((res1, res2), axis=0)\n",
    "\n",
    "X_train, X_test, y_train, y_test = train_test_split(X, y, test_size=0.30)"
   ]
  },
  {
   "cell_type": "code",
   "execution_count": 34,
   "metadata": {},
   "outputs": [
    {
     "name": "stdout",
     "output_type": "stream",
     "text": [
      "real device: ibmq_quito\n"
     ]
    }
   ],
   "source": [
    "n_wires = 1\n",
    "n_qubits = 1\n",
    "provider = qiskit.IBMQ.get_provider('ibm-q') # select the provider\n",
    "backend = provider.get_backend('ibmq_quito') # select the name of the quatum computer to use\n",
    "#backend = Aer.get_backend('qasm_simulator')\n",
    "print(\"real device:\", backend.name())\n",
    "\n",
    "def quant_state(x1, x2, backend = backend):\n",
    "    x1 = x1\n",
    "    x2  = x2\n",
    "    r = x1 * x1 + x2 * x2\n",
    "    a = np.sqrt(1 + 2*r)\n",
    "    psi = [0, 0, 0.5, 0, 0, -0.5, 0, 0, 1/(np.sqrt(2)*a), 0, x1/(np.sqrt(2)*a), x2/(np.sqrt(2)*a), x1/(np.sqrt(2)*a), x2/(np.sqrt(2)*a), 0, 0]\n",
    "    qc = QuantumCircuit(4)\n",
    "    qc.initialize(psi, [0,1,2,3])\n",
    "    qc.h(3)\n",
    "    qc.measure_all()\n",
    "    job_sim = execute(qc, backend, shots=1000)\n",
    "    result_sim = job_sim.result()\n",
    "    counts = result_sim.get_counts(qc)\n",
    "\n",
    "    quantumState_1 = 0\n",
    "    for i in counts.keys():\n",
    "        list_i = list(i)\n",
    "        if list_i[0] == '0':\n",
    "            quantumState_1 += counts[i]\n",
    "\n",
    "    return quantumState_1\n",
    "\n",
    "quant_res = []\n",
    "\n",
    "for i,j in zip(X_test[:, 0], X_test[:, 1]):\n",
    "    qs = quant_state(i, j, backend = backend)\n",
    "    if qs >= 500:\n",
    "        quant_res.append(1)\n",
    "    else:\n",
    "        quant_res.append(-1)\n",
    "\n",
    "print(f1_score(y_test, quant_res))\n",
    "\n",
    "def get_color(y,zn):\n",
    "    colors = []\n",
    "\n",
    "    for i in range(len(y)):\n",
    "        if y[i] == zn:\n",
    "            colors.append('red')\n",
    "        else:\n",
    "            colors.append('blue')\n",
    "\n",
    "    return(colors)\n",
    "\n",
    "colors = get_color(y_train, 1)\n",
    "quantColors = get_color(quant_res, 1)\n",
    "plt.scatter(X_train[:, 0], X_train[:, 1], c = colors) \n",
    "plt.scatter(X_test[:, 0], X_test[:, 1], c = quantColors, marker = \"x\")\n",
    "plt.plot(np.arange(-40,40), m*np.arange(-40,40)+b)\n",
    "plt.show()"
   ]
  }
 ],
 "metadata": {
  "colab": {
   "collapsed_sections": [],
   "name": "graphwizz-tree.ipynb",
   "provenance": [],
   "toc_visible": true
  },
  "interpreter": {
   "hash": "978bc9a35a679b8dad16aa95aa246066ffef6632ff9fcbe9e2c71acd629a230e"
  },
  "kernelspec": {
   "display_name": "Python 3.8.3 64-bit (conda)",
   "name": "python3"
  },
  "language_info": {
   "codemirror_mode": {
    "name": "ipython",
    "version": 3
   },
   "file_extension": ".py",
   "mimetype": "text/x-python",
   "name": "python",
   "nbconvert_exporter": "python",
   "pygments_lexer": "ipython3",
   "version": "3.8.8"
  }
 },
 "nbformat": 4,
 "nbformat_minor": 2
}
